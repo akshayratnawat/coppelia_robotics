{
 "cells": [
  {
   "cell_type": "markdown",
   "metadata": {},
   "source": [
    "##### ASakai\n",
    "https://github.com/AtsushiSakai/PythonRobotics/blob/master/Localization/extended_kalman_filter/extended_kalman_filter_localization.ipynb\n",
    "\n",
    "##### RLabbe\n",
    "https://github.com/rlabbe/Kalman-and-Bayesian-Filters-in-Python/blob/master/06-Multivariate-Kalman-Filters.ipynb"
   ]
  },
  {
   "cell_type": "code",
   "execution_count": 15,
   "metadata": {},
   "outputs": [],
   "source": [
    "import os\n",
    "import json\n",
    "from pprint import pprint\n",
    "import numpy as np\n",
    "import matplotlib.pyplot as plt\n",
    "\n",
    "plt.style.use('seaborn-whitegrid')"
   ]
  },
  {
   "cell_type": "code",
   "execution_count": 16,
   "metadata": {},
   "outputs": [
    {
     "data": {
      "text/plain": [
       "'C:\\\\Users\\\\betty\\\\OneDrive\\\\Documents\\\\GitHub\\\\theme\\\\coppelia_robotics\\\\notebooks\\\\data'"
      ]
     },
     "execution_count": 16,
     "metadata": {},
     "output_type": "execute_result"
    }
   ],
   "source": [
    "os.path.join(os.getcwd(), 'data')"
   ]
  },
  {
   "cell_type": "code",
   "execution_count": 17,
   "metadata": {},
   "outputs": [],
   "source": [
    "file_path = os.path.join(os.getcwd(), 'data')\n",
    "#file_path = os.path.join(os.getcwd())\n",
    "drive_file = 'drivePath_1116.json'\n",
    "# message_file = 'drive_messages_200703.json'\n",
    "\n",
    "def load_json_fstr(fstr):\n",
    "    with open(os.path.join(file_path, fstr), 'r') as f:\n",
    "        res = json.load(f)\n",
    "    return res\n",
    "\n",
    "drive_data = load_json_fstr(drive_file)\n",
    "# message_data = load_json_fstr(message_file)"
   ]
  },
  {
   "cell_type": "code",
   "execution_count": 18,
   "metadata": {},
   "outputs": [
    {
     "name": "stdout",
     "output_type": "stream",
     "text": [
      "[{'gps_x': -0.7892941712671404,\n",
      "  'gps_y': -1.5711801166225179,\n",
      "  'odometer_x': -0.815085293866517,\n",
      "  'odometer_y': -1.6001651473317853},\n",
      " {'gps_x': -0.8051763216060728,\n",
      "  'gps_y': -1.698670635923458,\n",
      "  'odometer_x': -0.8596116125474091,\n",
      "  'odometer_y': -1.6116889187623378},\n",
      " {'gps_x': -0.8708406151811865,\n",
      "  'gps_y': -1.627142031689733,\n",
      "  'odometer_x': -0.9010561936486994,\n",
      "  'odometer_y': -1.605414039331076},\n",
      " {'gps_x': -0.9211723446884041,\n",
      "  'gps_y': -1.5357374132331942,\n",
      "  'odometer_x': -0.9473693660573763,\n",
      "  'odometer_y': -1.6050556163389122},\n",
      " {'gps_x': -1.0239373998297994,\n",
      "  'gps_y': -1.574360754258274,\n",
      "  'odometer_x': -0.9851919249734109,\n",
      "  'odometer_y': -1.5893431368682358},\n",
      " {'gps_x': -1.0966434950015602,\n",
      "  'gps_y': -1.5027590530279422,\n",
      "  'odometer_x': -1.02967551301584,\n",
      "  'odometer_y': -1.5828742223089594},\n",
      " {'gps_x': -1.0809914865976271,\n",
      "  'gps_y': -1.5647161090103423,\n",
      "  'odometer_x': -1.0707703330999678,\n",
      "  'odometer_y': -1.593251747504754},\n",
      " {'gps_x': -1.1893453435848511,\n",
      "  'gps_y': -1.536150643654974,\n",
      "  'odometer_x': -1.1148319765860775,\n",
      "  'odometer_y': -1.619091841024957},\n",
      " {'gps_x': -1.1377218294992109,\n",
      "  'gps_y': -1.5208723629715846,\n",
      "  'odometer_x': -1.1502814376943964,\n",
      "  'odometer_y': -1.6568880003458677},\n",
      " {'gps_x': -1.324713371029827,\n",
      "  'gps_y': -1.6811858718437367,\n",
      "  'odometer_x': -1.188033563242361,\n",
      "  'odometer_y': -1.6810438535473873},\n",
      " {'gps_x': -1.249139040296235,\n",
      "  'gps_y': -1.6764554095170447,\n",
      "  'odometer_x': -1.2115549152140215,\n",
      "  'odometer_y': -1.714327891371403},\n",
      " {'gps_x': -1.2889217476548058,\n",
      "  'gps_y': -1.691309194636929,\n",
      "  'odometer_x': -1.2095184183704115,\n",
      "  'odometer_y': -1.7133206616426837},\n",
      " {'gps_x': -1.3945615597708765,\n",
      "  'gps_y': -1.783046371133211,\n",
      "  'odometer_x': -1.2588174881315288,\n",
      "  'odometer_y': -1.7205045649120994},\n",
      " {'gps_x': -1.404273671025902,\n",
      "  'gps_y': -1.6771609842267383,\n",
      "  'odometer_x': -1.3002302222766324,\n",
      "  'odometer_y': -1.7212160887962382},\n",
      " {'gps_x': -1.5136323600347354,\n",
      "  'gps_y': -1.6764527360916779,\n",
      "  'odometer_x': -1.3412915494739384,\n",
      "  'odometer_y': -1.7041843966426153},\n",
      " {'gps_x': -1.4461603739082993,\n",
      "  'gps_y': -1.660302172967175,\n",
      "  'odometer_x': -1.3503954020312106,\n",
      "  'odometer_y': -1.7049734727076773},\n",
      " {'gps_x': -1.4701307960317798,\n",
      "  'gps_y': -1.6036691763247515,\n",
      "  'odometer_x': -1.3782002511831755,\n",
      "  'odometer_y': -1.7182014770106548},\n",
      " {'gps_x': -1.5422932505077371,\n",
      "  'gps_y': -1.6456094109410235,\n",
      "  'odometer_x': -1.3991008344457156,\n",
      "  'odometer_y': -1.7386984683646516},\n",
      " {'gps_x': -1.6422982178980863,\n",
      "  'gps_y': -1.7140660381638608,\n",
      "  'odometer_x': -1.4281398303688175,\n",
      "  'odometer_y': -1.7771327106701984},\n",
      " {'gps_x': -1.7476613588416112,\n",
      "  'gps_y': -1.7379114701536884,\n",
      "  'odometer_x': -1.4076682417909263,\n",
      "  'odometer_y': -1.822516674134886},\n",
      " {'gps_x': -1.6607406501876267,\n",
      "  'gps_y': -1.691325432480389,\n",
      "  'odometer_x': -1.365670852071944,\n",
      "  'odometer_y': -1.8216715038742435},\n",
      " {'gps_x': -1.6634849569934782,\n",
      "  'gps_y': -1.7728184558965216,\n",
      "  'odometer_x': -1.332068415762988,\n",
      "  'odometer_y': -1.8048318683034021},\n",
      " {'gps_x': -1.6267248288407914,\n",
      "  'gps_y': -1.7579497014818912,\n",
      "  'odometer_x': -1.3038873333157832,\n",
      "  'odometer_y': -1.7718004049179583},\n",
      " {'gps_x': -1.6860264098487776,\n",
      "  'gps_y': -1.6149023925852906,\n",
      "  'odometer_x': -1.2908838791807984,\n",
      "  'odometer_y': -1.729743309607422},\n",
      " {'gps_x': -1.6295595959074494,\n",
      "  'gps_y': -1.5734158210897211,\n",
      "  'odometer_x': -1.2850194480221948,\n",
      "  'odometer_y': -1.7228233929079177},\n",
      " {'gps_x': -1.6021089508073842,\n",
      "  'gps_y': -1.51263861253055,\n",
      "  'odometer_x': -1.2457626845617362,\n",
      "  'odometer_y': -1.703244155857607},\n",
      " {'gps_x': -1.529505508540848,\n",
      "  'gps_y': -1.5397075358988952,\n",
      "  'odometer_x': -1.2155642081274085,\n",
      "  'odometer_y': -1.7314506545523562},\n",
      " {'gps_x': -1.547027061505868,\n",
      "  'gps_y': -1.6353375907083407,\n",
      "  'odometer_x': -1.1978801285700564,\n",
      "  'odometer_y': -1.772001388662086},\n",
      " {'gps_x': -1.6273631593809568,\n",
      "  'gps_y': -1.6133819734726325,\n",
      "  'odometer_x': -1.181809811484017,\n",
      "  'odometer_y': -1.7902431967171097},\n",
      " {'gps_x': -1.5096497602692407,\n",
      "  'gps_y': -1.7043416842678192,\n",
      "  'odometer_x': -1.1625468801037313,\n",
      "  'odometer_y': -1.8024772921953094},\n",
      " {'gps_x': -1.5140631191775387,\n",
      "  'gps_y': -1.6027049455822608,\n",
      "  'odometer_x': -1.1372797572738775,\n",
      "  'odometer_y': -1.8413999750632941},\n",
      " {'gps_x': -1.4428423269105903,\n",
      "  'gps_y': -1.7938842467379021,\n",
      "  'odometer_x': -1.1209651470479667,\n",
      "  'odometer_y': -1.8537175472228664},\n",
      " {'gps_x': -1.410210509372994,\n",
      "  'gps_y': -1.647167810139356,\n",
      "  'odometer_x': -1.0937892261879418,\n",
      "  'odometer_y': -1.8622646638620275}]\n"
     ]
    }
   ],
   "source": [
    "pprint(drive_data)\n",
    "# pprint(message_data)"
   ]
  },
  {
   "cell_type": "markdown",
   "metadata": {},
   "source": [
    "Set Initial Conditions"
   ]
  },
  {
   "cell_type": "code",
   "execution_count": 19,
   "metadata": {},
   "outputs": [],
   "source": [
    "prior_dat = {\n",
    "#     't': drive_data[0].get('t'),\n",
    "    'gps_x': 0,\n",
    "    'gps_y': 0, \n",
    "    'odometer_x': 0,\n",
    "    'odometer_y': 0\n",
    "#     'theta_control': drive_data[0].get('theta_control'),\n",
    "#     'theta_sensor': drive_data[0].get('theta_control')\n",
    "}\n",
    "\n",
    "x_true = np.array([0, 0])\n",
    "\n",
    "F = np.identity(2)\n",
    "P = np.identity(2)\n",
    "H = np.identity(2)\n",
    "Q = np.zeros([2,2])\n",
    "R = np.zeros([2,2])"
   ]
  },
  {
   "attachments": {
    "image.png": {
     "image/png": "[encoded data removed]"
    }
   },
   "cell_type": "markdown",
   "metadata": {},
   "source": [
    "![image.png](attachment:image.png)"
   ]
  },
  {
   "cell_type": "code",
   "execution_count": 20,
   "metadata": {},
   "outputs": [
    {
     "name": "stdout",
     "output_type": "stream",
     "text": [
      "x_true: [-0.81172123 -1.59638449]\n",
      "y: [0.02579112 0.02898503]\n",
      "\n",
      "x_true: [-0.85251136 -1.62303436]\n",
      "y: [ 0.02864417 -0.11596675]\n",
      "\n",
      "x_true: [-0.89711503 -1.60824813]\n",
      "y: [-0.02421971  0.06525372]\n",
      "\n",
      "x_true: [-0.94395236 -1.59601411]\n",
      "y: [-0.00401856  0.0910462 ]\n",
      "\n",
      "x_true: [-0.99024568 -1.58738891]\n",
      "y: [-0.0649425  -0.05433582]\n",
      "\n",
      "x_true: [-1.03841047 -1.57242442]\n",
      "y: [-0.02822251  0.06513279]\n",
      "\n",
      "x_true: [-1.07210353 -1.58952971]\n",
      "y: [ 0.05674683 -0.05157953]\n",
      "\n",
      "x_true: [-1.12455111 -1.60827342]\n",
      "y: [-0.06429221  0.05440556]\n",
      "\n",
      "x_true: [-1.14864323 -1.63914683]\n",
      "y: [0.08707298 0.05307444]\n",
      "\n",
      "x_true: [-1.20586136 -1.68106238]\n",
      "y: [-0.14923942 -0.13615766]\n",
      "\n",
      "x_true: [-1.21645719 -1.709388  ]\n",
      "y: [0.09909568 0.0380145 ]\n",
      "\n",
      "x_true: [-1.21987537 -1.7104496 ]\n",
      "y: [-0.0418192  -0.01586101]\n",
      "\n",
      "x_true: [-1.27652324 -1.72866219]\n",
      "y: [-0.05634074 -0.08455327]\n",
      "\n",
      "x_true: [-1.31380111 -1.71546977]\n",
      "y: [0.03170062 0.10659691]\n",
      "\n",
      "x_true: [-1.36377079 -1.70056722]\n",
      "y: [-0.06829736 -0.01632344]\n",
      "\n",
      "x_true: [-1.36288649 -1.69914678]\n",
      "y: [0.07657584 0.01693964]\n",
      "\n",
      "x_true: [-1.39019119 -1.70326248]\n",
      "y: [0.00383443 0.069861  ]\n",
      "\n",
      "x_true: [-1.41777811 -1.72655642]\n",
      "y: [-0.05126187 -0.02144324]\n",
      "\n",
      "x_true: [-1.45607353 -1.76890662]\n",
      "y: [-0.07096597 -0.03002238]\n",
      "\n",
      "x_true: [-1.45201517 -1.81148121]\n",
      "y: [-0.12583473  0.02153853]\n",
      "\n",
      "x_true: [-1.40415822 -1.80466984]\n",
      "y: [0.04492332 0.04574087]\n",
      "\n",
      "x_true: [-1.37529666 -1.80065621]\n",
      "y: [-0.03634674 -0.09833266]\n",
      "\n",
      "x_true: [-1.34599657 -1.76999379]\n",
      "y: [ 0.00857905 -0.01816271]\n",
      "\n",
      "x_true: [-1.34242421 -1.71476406]\n",
      "y: [-0.07230504  0.10099021]\n",
      "\n",
      "x_true: [-1.32995947 -1.70333545]\n",
      "y: [0.05060238 0.03456665]\n",
      "\n",
      "x_true: [-1.29224263 -1.67838256]\n",
      "y: [-0.01180612  0.04119797]\n",
      "\n",
      "x_true: [-1.25651307 -1.70644068]\n",
      "y: [0.04240497 0.00113758]\n",
      "\n",
      "x_true: [-1.24342103 -1.75417568]\n",
      "y: [-0.03520563 -0.05507932]\n",
      "\n",
      "x_true: [-1.23992547 -1.76717434]\n",
      "y: [-0.09640641  0.04019743]\n",
      "\n",
      "x_true: [-1.20782117 -1.789677  ]\n",
      "y: [ 0.09845047 -0.07872562]\n",
      "\n",
      "x_true: [-1.18642541 -1.81026584]\n",
      "y: [-0.02968048  0.14055942]\n",
      "\n",
      "x_true: [-1.16294913 -1.8459132 ]\n",
      "y: [ 0.05490618 -0.17886173]\n",
      "\n",
      "x_true: [-1.13506157 -1.83420855]\n",
      "y: [0.0054559  0.15526355]\n",
      "\n"
     ]
    }
   ],
   "source": [
    "for i, curr_dat in enumerate(drive_data, 1):\n",
    "#     dt = curr_dat['t'] - prior_dat['t']\n",
    "    u_t_sensor = np.array(\n",
    "        [curr_dat['gps_x'] - prior_dat['gps_x'],\n",
    "         curr_dat['gps_y'] - prior_dat['gps_y']])\n",
    "#          curr_dat['theta_control'] - prior_dat['theta_control']])\n",
    "    \n",
    "    u_t_control = np.array(\n",
    "        [curr_dat['odometer_x'] - prior_dat['odometer_x'],\n",
    "         curr_dat['odometer_y'] - prior_dat['odometer_y']])\n",
    "#          curr_dat['theta_sensor'] - prior_dat['theta_sensor']])\n",
    "    \n",
    "    r_control = 10e-2\n",
    "    J_control = np.array([\n",
    "        [1, 0],\n",
    "        [0, 1]])\n",
    "    \n",
    "    r_sensor = 10e-2\n",
    "    J_sensor = np.array([\n",
    "        [1, 0],\n",
    "        [0, 1]])\n",
    "    \n",
    "        # What to plugin to alpha 1-4?\n",
    "    alpha_1, alpha_2, alpha_3, alpha_4 = 10e-7, 15e-7, 5e-7, 20e-7\n",
    "    alpha_1, alpha_2, alpha_3, alpha_4 = (10,) * 4\n",
    "    qalpha_1, qalpha_2, qalpha_3, qalpha_4 = (1,) * 4\n",
    "    \n",
    "    R_t_1_1 = alpha_1 + alpha_2 \n",
    "    R_t_2_2 = alpha_3 + alpha_4\n",
    "    R = np.array([\n",
    "        [R_t_1_1, 0],\n",
    "        [0, R_t_2_2]\n",
    "    ])\n",
    "    \n",
    "    Q_t_1_1 = qalpha_1 + qalpha_2 \n",
    "    Q_t_2_2 = qalpha_3 + qalpha_4 \n",
    "    Q = np.array([\n",
    "        [Q_t_1_1, 0],\n",
    "        [0, Q_t_2_2]\n",
    "    ])\n",
    "    \n",
    "    # === Predict ===\n",
    "    x_pred_control = x_true + u_t_control\n",
    "    x_pred_sensor = x_true + u_t_sensor\n",
    "    P_pred = J_control.dot(P).dot(J_control.T) + Q\n",
    "    # === Update ===\n",
    "    z_pred_control = H.dot(x_pred_control)\n",
    "    z_pred_sensor = H.dot(x_pred_sensor)\n",
    "    y = z_pred_sensor - z_pred_control\n",
    "    S = J_sensor.dot(P_pred).dot(J_sensor.T) + R\n",
    "    K = P_pred.dot(J_sensor.T).dot(np.linalg.inv(S))\n",
    "    x_true = x_pred_control + K.dot(y)\n",
    "    \n",
    "    # Review\n",
    "    print(\n",
    "        f\"x_true: {x_true}\"\n",
    "        # f\"\\nP {P}\"\n",
    "        f\"\\ny: {y}\"\n",
    "        f\"\\n\"\n",
    "    )\n",
    "    # Setup for Next Iteration\n",
    "    curr_dat['x_true'] = x_true[0]\n",
    "    curr_dat['y_true'] = x_true[1]\n",
    "    prior_dat = curr_dat\n",
    "        "
   ]
  },
  {
   "cell_type": "code",
   "execution_count": 21,
   "metadata": {},
   "outputs": [
    {
     "name": "stdout",
     "output_type": "stream",
     "text": [
      "{'gps_x': -1.410210509372994, 'gps_y': -1.647167810139356, 'odometer_x': -1.0937892261879418, 'odometer_y': -1.8622646638620275, 'x_true': -1.135061567472949, 'y_true': -1.834208552506896}\n"
     ]
    }
   ],
   "source": [
    "print(drive_data[-1])"
   ]
  },
  {
   "cell_type": "code",
   "execution_count": 22,
   "metadata": {},
   "outputs": [
    {
     "data": {
      "image/png": "[encoded data removed]",
      "text/plain": [
       "<Figure size 432x288 with 1 Axes>"
      ]
     },
     "metadata": {},
     "output_type": "display_data"
    }
   ],
   "source": [
    "gps_x = [dat.get('gps_x') for dat in drive_data]\n",
    "gps_y = [dat.get('gps_y') for dat in drive_data]\n",
    "odometer_x = [dat.get('odometer_x') for dat in drive_data]\n",
    "odometer_y = [dat.get('odometer_y') for dat in drive_data]\n",
    "x_true = [dat.get('x_true') for dat in drive_data]\n",
    "y_true = [dat.get('y_true') for dat in drive_data]\n",
    "\n",
    "fig = plt.figure()\n",
    "plt.plot(gps_x, gps_y, 'o', color='blue')\n",
    "plt.plot(odometer_x, odometer_y, 'o', color='green')\n",
    "plt.plot(x_true, y_true, 'o', color='teal')\n",
    "plt.show()\n",
    "# fig.savefig('plot.png')"
   ]
  },
  {
   "cell_type": "code",
   "execution_count": 11,
   "metadata": {},
   "outputs": [
    {
     "name": "stdout",
     "output_type": "stream",
     "text": [
      "[-0.00715885 -0.01142735]\n"
     ]
    }
   ],
   "source": [
    "print(K.dot(y))"
   ]
  },
  {
   "cell_type": "code",
   "execution_count": 12,
   "metadata": {},
   "outputs": [
    {
     "name": "stdout",
     "output_type": "stream",
     "text": [
      "[[0.13043478 0.        ]\n",
      " [0.         0.13043478]]\n"
     ]
    }
   ],
   "source": [
    "print(K)"
   ]
  },
  {
   "cell_type": "code",
   "execution_count": 10,
   "metadata": {},
   "outputs": [
    {
     "name": "stdout",
     "output_type": "stream",
     "text": [
      "[[0. 0. 0.]\n",
      " [0. 0. 0.]\n",
      " [0. 0. 0.]]\n"
     ]
    }
   ],
   "source": [
    "R = np.zeros([3,3])\n",
    "print(R)"
   ]
  },
  {
   "cell_type": "raw",
   "metadata": {},
   "source": [
    "Final from calc with R (not zero)\n",
    "x_true: [-52.91811081  68.65783092   2.49353123]\n",
    "y: [-5.40779537e+00  4.09316408e+00 -3.16964882e-04]\n",
    "x_true: [-52.91811081  68.65783092   2.49353123]\n",
    "y: [-5.40779537e+00  4.09316408e+00 -3.16964882e-04]"
   ]
  },
  {
   "cell_type": "code",
   "execution_count": null,
   "metadata": {},
   "outputs": [],
   "source": []
  }
 ],
 "metadata": {
  "kernelspec": {
   "display_name": "Python 3",
   "language": "python",
   "name": "python3"
  },
  "language_info": {
   "codemirror_mode": {
    "name": "ipython",
    "version": 3
   },
   "file_extension": ".py",
   "mimetype": "text/x-python",
   "name": "python",
   "nbconvert_exporter": "python",
   "pygments_lexer": "ipython3",
   "version": "3.6.9"
  }
 },
 "nbformat": 4,
 "nbformat_minor": 4
}
