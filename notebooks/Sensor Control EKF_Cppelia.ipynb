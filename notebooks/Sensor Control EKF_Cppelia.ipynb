{
 "cells": [
  {
   "cell_type": "markdown",
   "metadata": {},
   "source": [
    "##### ASakai\n",
    "https://github.com/AtsushiSakai/PythonRobotics/blob/master/Localization/extended_kalman_filter/extended_kalman_filter_localization.ipynb\n",
    "\n",
    "##### RLabbe\n",
    "https://github.com/rlabbe/Kalman-and-Bayesian-Filters-in-Python/blob/master/06-Multivariate-Kalman-Filters.ipynb"
   ]
  },
  {
   "cell_type": "code",
   "execution_count": 1,
   "metadata": {},
   "outputs": [],
   "source": [
    "import os\n",
    "import json\n",
    "from pprint import pprint\n",
    "import numpy as np\n",
    "import matplotlib.pyplot as plt\n",
    "\n",
    "plt.style.use('seaborn-whitegrid')"
   ]
  },
  {
   "cell_type": "code",
   "execution_count": 2,
   "metadata": {},
   "outputs": [],
   "source": [
    "file_path = os.path.join(os.getcwd(), 'data')\n",
    "drive_file = 'output.json'\n",
    "# message_file = 'drive_messages_200703.json'\n",
    "\n",
    "def load_json_fstr(fstr):\n",
    "    with open(os.path.join(file_path, fstr), 'r') as f:\n",
    "        res = json.load(f)\n",
    "    return res\n",
    "\n",
    "drive_data = load_json_fstr(drive_file)\n",
    "# message_data = load_json_fstr(message_file)"
   ]
  },
  {
   "cell_type": "code",
   "execution_count": 3,
   "metadata": {},
   "outputs": [
    {
     "name": "stdout",
     "output_type": "stream",
     "text": [
      "[{'gps_x': -3.773242246594317,\n",
      "  'gps_y': 0.31595645672834327,\n",
      "  'odometer_x': -3.7217173743012357,\n",
      "  'odometer_y': 0.21676283525363438},\n",
      " {'gps_x': -3.7489594534969317,\n",
      "  'gps_y': 0.2140514148221447,\n",
      "  'odometer_x': -3.7216616033622127,\n",
      "  'odometer_y': 0.2695264174269965},\n",
      " {'gps_x': -3.656246005690853,\n",
      "  'gps_y': 0.4234804431809103,\n",
      "  'odometer_x': -3.7216044337376406,\n",
      "  'odometer_y': 0.3236932531150346},\n",
      " {'gps_x': -3.7194140331957977,\n",
      "  'gps_y': 0.548436737844205,\n",
      "  'odometer_x': -3.7215484816712174,\n",
      "  'odometer_y': 0.37662996771280133},\n",
      " {'gps_x': -3.7208871412384843,\n",
      "  'gps_y': 0.7599277935587568,\n",
      "  'odometer_x': -3.7214913772619918,\n",
      "  'odometer_y': 0.43074675111723837},\n",
      " {'gps_x': -3.7315001721109318,\n",
      "  'gps_y': 0.8164620296889589,\n",
      "  'odometer_x': -3.721433345470766,\n",
      "  'odometer_y': 0.48528547507581943},\n",
      " {'gps_x': -3.807698665117086,\n",
      "  'gps_y': 1.1400685099380616,\n",
      "  'odometer_x': -3.7213753162972028,\n",
      "  'odometer_y': 0.540355642428792},\n",
      " {'gps_x': -3.7706111159153495,\n",
      "  'gps_y': 1.309144860670024,\n",
      "  'odometer_x': -3.721319186377418,\n",
      "  'odometer_y': 0.5927597261124453},\n",
      " {'gps_x': -3.764249395834206,\n",
      "  'gps_y': 1.353617228332753,\n",
      "  'odometer_x': -3.721262730535352,\n",
      "  'odometer_y': 0.6454214662197395},\n",
      " {'gps_x': -3.682853143214751,\n",
      "  'gps_y': 1.4940730591051952,\n",
      "  'odometer_x': -3.7212064752561633,\n",
      "  'odometer_y': 0.6983000859025326},\n",
      " {'gps_x': -3.636891300996455,\n",
      "  'gps_y': 1.608178836176297,\n",
      "  'odometer_x': -3.721148508606436,\n",
      "  'odometer_y': 0.7525482249985104},\n",
      " {'gps_x': -3.6487386234415466,\n",
      "  'gps_y': 1.7496588610809751,\n",
      "  'odometer_x': -3.721092127554757,\n",
      "  'odometer_y': 0.8053500728956486},\n",
      " {'gps_x': -3.7739797775277997,\n",
      "  'gps_y': 1.9531823298619724,\n",
      "  'odometer_x': -3.7210369695705547,\n",
      "  'odometer_y': 0.8580365055885172},\n",
      " {'gps_x': -3.6506737921214327,\n",
      "  'gps_y': 2.2497931766149972,\n",
      "  'odometer_x': -3.720980721948554,\n",
      "  'odometer_y': 0.9103244222356532},\n",
      " {'gps_x': -3.7217391271653324,\n",
      "  'gps_y': 2.3857521481603277,\n",
      "  'odometer_x': -3.720924330935788,\n",
      "  'odometer_y': 0.9624904993557382},\n",
      " {'gps_x': -3.6182939697216003,\n",
      "  'gps_y': 2.53141209885124,\n",
      "  'odometer_x': -3.7208690798536512,\n",
      "  'odometer_y': 1.01360205189442},\n",
      " {'gps_x': -3.610891977601978,\n",
      "  'gps_y': 2.5567213242650744,\n",
      "  'odometer_x': -3.7208121758536055,\n",
      "  'odometer_y': 1.0665604101013697},\n",
      " {'gps_x': -3.7638188914073556,\n",
      "  'gps_y': 2.8469257933089893,\n",
      "  'odometer_x': -3.720757262275659,\n",
      "  'odometer_y': 1.1175704143170428},\n",
      " {'gps_x': -3.7088694903856947,\n",
      "  'gps_y': 2.9939877719944197,\n",
      "  'odometer_x': -3.7206923946613224,\n",
      "  'odometer_y': 1.1770226885440631}]\n"
     ]
    }
   ],
   "source": [
    "pprint(drive_data)\n",
    "# pprint(message_data)"
   ]
  },
  {
   "cell_type": "markdown",
   "metadata": {},
   "source": [
    "Set Initial Conditions"
   ]
  },
  {
   "cell_type": "code",
   "execution_count": 16,
   "metadata": {},
   "outputs": [],
   "source": [
    "prior_dat = {\n",
    "#     't': drive_data[0].get('t'),\n",
    "    'gps_x': 0,\n",
    "    'gps_y': 0, \n",
    "    'odometer_x': 0,\n",
    "    'odometer_y': 0\n",
    "#     'theta_control': drive_data[0].get('theta_control'),\n",
    "#     'theta_sensor': drive_data[0].get('theta_control')\n",
    "}\n",
    "\n",
    "x_true = np.array([0, 0])\n",
    "\n",
    "F = np.identity(2)\n",
    "P = np.identity(2)\n",
    "H = np.identity(2)\n",
    "Q = np.zeros([2,2])\n",
    "R = np.zeros([2,2])"
   ]
  },
  {
   "attachments": {
    "image.png": {
     "image/png": "[encoded data removed]"
    }
   },
   "cell_type": "markdown",
   "metadata": {},
   "source": [
    "![image.png](attachment:image.png)"
   ]
  },
  {
   "cell_type": "code",
   "execution_count": 17,
   "metadata": {},
   "outputs": [
    {
     "name": "stdout",
     "output_type": "stream",
     "text": [
      "x_true: [-3.72843801  0.22970113]\n",
      "y: [-0.05152487  0.09919362]\n",
      "\n",
      "x_true: [-3.72522219  0.26229055]\n",
      "y: [ 0.02422702 -0.15466862]\n",
      "\n",
      "x_true: [-3.71307942  0.33670897]\n",
      "y: [0.09265628 0.15526219]\n",
      "\n",
      "x_true: [-3.72127008  0.39903955]\n",
      "y: [-0.06322398  0.07201958]\n",
      "\n",
      "x_true: [-3.72141256  0.47368341]\n",
      "y: [-0.00153021  0.15737427]\n",
      "\n",
      "x_true: [-3.72274641  0.52848242]\n",
      "y: [-0.01067106  0.00199551]\n",
      "\n",
      "x_true: [-3.73263488  0.61857906]\n",
      "y: [-0.07625652  0.26853631]\n",
      "\n",
      "x_true: [-3.72774857  0.68620127]\n",
      "y: [0.03703142 0.11667227]\n",
      "\n",
      "x_true: [-3.72686969  0.73779483]\n",
      "y: [ 0.00630526 -0.00818937]\n",
      "\n",
      "x_true: [-3.71620387  0.80209656]\n",
      "y: [0.08134    0.08757721]\n",
      "\n",
      "x_true: [-3.71015844  0.86415222]\n",
      "y: [0.04590388 0.05985764]\n",
      "\n",
      "x_true: [-3.71165471  0.92852078]\n",
      "y: [-0.0119037   0.08867818]\n",
      "\n",
      "x_true: [-3.72794255  1.00088161]\n",
      "y: [-0.12529631  0.15083704]\n",
      "\n",
      "x_true: [-3.71181025  1.08503774]\n",
      "y: [0.12324974 0.24432293]\n",
      "\n",
      "x_true: [-3.72103061  1.14813332]\n",
      "y: [-0.07112173  0.08379289]\n",
      "\n",
      "x_true: [-3.70748972  1.21157728]\n",
      "y: [0.10338991 0.0945484 ]\n",
      "\n",
      "x_true: [-3.70647476  1.26092922]\n",
      "y: [ 0.00734509 -0.02764913]\n",
      "\n",
      "x_true: [-3.726374    1.34313851]\n",
      "y: [-0.15298183  0.23919446]\n",
      "\n",
      "x_true: [-3.71915028  1.41401813]\n",
      "y: [0.05488453 0.0876097 ]\n",
      "\n"
     ]
    }
   ],
   "source": [
    "for i, curr_dat in enumerate(drive_data, 1):\n",
    "#     dt = curr_dat['t'] - prior_dat['t']\n",
    "    u_t_sensor = np.array(\n",
    "        [curr_dat['gps_x'] - prior_dat['gps_x'],\n",
    "         curr_dat['gps_y'] - prior_dat['gps_y']])\n",
    "#          curr_dat['theta_control'] - prior_dat['theta_control']])\n",
    "    \n",
    "    u_t_control = np.array(\n",
    "        [curr_dat['odometer_x'] - prior_dat['odometer_x'],\n",
    "         curr_dat['odometer_y'] - prior_dat['odometer_y']])\n",
    "#          curr_dat['theta_sensor'] - prior_dat['theta_sensor']])\n",
    "    \n",
    "    r_control = 10e-2\n",
    "    J_control = np.array([\n",
    "        [1, 0],\n",
    "        [0, 1]])\n",
    "    \n",
    "    r_sensor = 10e-2\n",
    "    J_sensor = np.array([\n",
    "        [1, 0],\n",
    "        [0, 1]])\n",
    "    \n",
    "        # What to plugin to alpha 1-4?\n",
    "    alpha_1, alpha_2, alpha_3, alpha_4 = 10e-7, 15e-7, 5e-7, 20e-7\n",
    "    alpha_1, alpha_2, alpha_3, alpha_4 = (10,) * 4\n",
    "    qalpha_1, qalpha_2, qalpha_3, qalpha_4 = (1,) * 4\n",
    "    \n",
    "    R_t_1_1 = alpha_1 + alpha_2 \n",
    "    R_t_2_2 = alpha_3 + alpha_4\n",
    "    R = np.array([\n",
    "        [R_t_1_1, 0],\n",
    "        [0, R_t_2_2]\n",
    "    ])\n",
    "    \n",
    "    Q_t_1_1 = qalpha_1 + qalpha_2 \n",
    "    Q_t_2_2 = qalpha_3 + qalpha_4 \n",
    "    Q = np.array([\n",
    "        [Q_t_1_1, 0],\n",
    "        [0, Q_t_2_2]\n",
    "    ])\n",
    "    \n",
    "    # === Predict ===\n",
    "    x_pred_control = x_true + u_t_control\n",
    "    x_pred_sensor = x_true + u_t_sensor\n",
    "    P_pred = J_control.dot(P).dot(J_control.T) + Q\n",
    "    # === Update ===\n",
    "    z_pred_control = H.dot(x_pred_control)\n",
    "    z_pred_sensor = H.dot(x_pred_sensor)\n",
    "    y = z_pred_sensor - z_pred_control\n",
    "    S = J_sensor.dot(P_pred).dot(J_sensor.T) + R\n",
    "    K = P_pred.dot(J_sensor.T).dot(np.linalg.inv(S))\n",
    "    x_true = x_pred_control + K.dot(y)\n",
    "    \n",
    "    # Review\n",
    "    print(\n",
    "        f\"x_true: {x_true}\"\n",
    "        # f\"\\nP {P}\"\n",
    "        f\"\\ny: {y}\"\n",
    "        f\"\\n\"\n",
    "    )\n",
    "    # Setup for Next Iteration\n",
    "    curr_dat['x_true'] = x_true[0]\n",
    "    curr_dat['y_true'] = x_true[1]\n",
    "    prior_dat = curr_dat\n",
    "        "
   ]
  },
  {
   "cell_type": "code",
   "execution_count": 18,
   "metadata": {},
   "outputs": [
    {
     "name": "stdout",
     "output_type": "stream",
     "text": [
      "{'gps_x': -3.7088694903856947, 'gps_y': 2.9939877719944197, 'odometer_x': -3.7206923946613224, 'odometer_y': 1.1770226885440631, 'x_true': -3.7191502767123263, 'y_true': 1.4140181342115006}\n"
     ]
    }
   ],
   "source": [
    "print(drive_data[-1])"
   ]
  },
  {
   "cell_type": "code",
   "execution_count": 19,
   "metadata": {},
   "outputs": [
    {
     "data": {
      "image/png": "[encoded data removed]",
      "text/plain": [
       "<Figure size 432x288 with 1 Axes>"
      ]
     },
     "metadata": {
      "needs_background": "light"
     },
     "output_type": "display_data"
    }
   ],
   "source": [
    "gps_x = [dat.get('gps_x') for dat in drive_data]\n",
    "gps_y = [dat.get('gps_y') for dat in drive_data]\n",
    "odometer_x = [dat.get('odometer_x') for dat in drive_data]\n",
    "odometer_y = [dat.get('odometer_y') for dat in drive_data]\n",
    "x_true = [dat.get('x_true') for dat in drive_data]\n",
    "y_true = [dat.get('y_true') for dat in drive_data]\n",
    "\n",
    "fig = plt.figure()\n",
    "plt.plot(gps_x, gps_y, 'o', color='blue')\n",
    "plt.plot(odometer_x, odometer_y, 'o', color='green')\n",
    "plt.plot(x_true, y_true, 'o', color='teal')\n",
    "plt.show()\n",
    "# fig.savefig('plot.png')"
   ]
  },
  {
   "cell_type": "code",
   "execution_count": 11,
   "metadata": {},
   "outputs": [
    {
     "name": "stdout",
     "output_type": "stream",
     "text": [
      "[-0.00715885 -0.01142735]\n"
     ]
    }
   ],
   "source": [
    "print(K.dot(y))"
   ]
  },
  {
   "cell_type": "code",
   "execution_count": 12,
   "metadata": {},
   "outputs": [
    {
     "name": "stdout",
     "output_type": "stream",
     "text": [
      "[[0.13043478 0.        ]\n",
      " [0.         0.13043478]]\n"
     ]
    }
   ],
   "source": [
    "print(K)"
   ]
  },
  {
   "cell_type": "code",
   "execution_count": 10,
   "metadata": {},
   "outputs": [
    {
     "name": "stdout",
     "output_type": "stream",
     "text": [
      "[[0. 0. 0.]\n",
      " [0. 0. 0.]\n",
      " [0. 0. 0.]]\n"
     ]
    }
   ],
   "source": [
    "R = np.zeros([3,3])\n",
    "print(R)"
   ]
  },
  {
   "cell_type": "raw",
   "metadata": {},
   "source": [
    "Final from calc with R (not zero)\n",
    "x_true: [-52.91811081  68.65783092   2.49353123]\n",
    "y: [-5.40779537e+00  4.09316408e+00 -3.16964882e-04]\n",
    "x_true: [-52.91811081  68.65783092   2.49353123]\n",
    "y: [-5.40779537e+00  4.09316408e+00 -3.16964882e-04]"
   ]
  },
  {
   "cell_type": "code",
   "execution_count": null,
   "metadata": {},
   "outputs": [],
   "source": []
  }
 ],
 "metadata": {
  "kernelspec": {
   "display_name": "Python 3",
   "language": "python",
   "name": "python3"
  },
  "language_info": {
   "codemirror_mode": {
    "name": "ipython",
    "version": 3
   },
   "file_extension": ".py",
   "mimetype": "text/x-python",
   "name": "python",
   "nbconvert_exporter": "python",
   "pygments_lexer": "ipython3",
   "version": "3.7.4"
  }
 },
 "nbformat": 4,
 "nbformat_minor": 4
}
